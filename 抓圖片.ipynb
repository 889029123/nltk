{
 "cells": [
  {
   "cell_type": "code",
   "execution_count": null,
   "metadata": {},
   "outputs": [],
   "source": [
    "import requests\n",
    "import urllib.request\n",
    "from bs4 import BeautifulSoup\n",
    "import os\n",
    "import time\n",
    "q='川普'\n",
    "url = 'https://www.google.com/search?q='+q+'&rlz=1C2CAFB_enTW617TW617&source=lnms&tbm=isch&sa=X&ved=0ahUKEwictOnTmYDcAhXGV7wKHX-OApwQ_AUICigB&biw=1128&bih=960'\n",
    "limit = 5\n",
    "header = {'User-Agent': 'Mozilla/5.0'}\n",
    "\n",
    "response = requests.get(url,headers = header) #使用header避免訪問受到限制\n",
    "\n",
    "soup = BeautifulSoup(response.content, 'html.parser')\n",
    "\n",
    "imgs = soup.find_all('img')\n",
    "folder_path ='./photo/'\n",
    "if (os.path.exists(folder_path) == False): #判斷資料夾是否存在\n",
    "    os.makedirs(folder_path) #Create folder\n",
    "for i , item in enumerate (imgs):\n",
    "    if (item and i < limit ):\n",
    "        src = requests.get(item.get('src')) # use 'get' to get photo link path , requests = send request\n",
    "        img_name = folder_path + str(i + 1) + '.png'\n",
    "        with open(img_name,'wb') as file: #以byte的形式將圖片數據寫入\n",
    "            file.write(src.content)\n",
    "            file.flush()\n",
    "        file.close() #close file\n",
    "        print('第 %d 張' % (i + 1))\n",
    "        #time.sleep(1)\n",
    "\n",
    "print('End')"
   ]
  }
 ],
 "metadata": {
  "kernelspec": {
   "display_name": "Python 3",
   "language": "python",
   "name": "python3"
  },
  "language_info": {
   "codemirror_mode": {
    "name": "ipython",
    "version": 3
   },
   "file_extension": ".py",
   "mimetype": "text/x-python",
   "name": "python",
   "nbconvert_exporter": "python",
   "pygments_lexer": "ipython3",
   "version": "3.6.7"
  }
 },
 "nbformat": 4,
 "nbformat_minor": 2
}
