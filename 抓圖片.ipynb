{
 "cells": [
  {
   "cell_type": "code",
   "execution_count": 3,
   "metadata": {},
   "outputs": [
    {
     "name": "stdout",
     "output_type": "stream",
     "text": [
      "第 1 張\n",
      "第 2 張\n",
      "第 3 張\n",
      "第 4 張\n",
      "第 5 張\n",
      "End\n"
     ]
    }
   ],
   "source": [
    "import requests\n",
    "import urllib.request\n",
    "from bs4 import BeautifulSoup\n",
    "import os\n",
    "import time\n",
    "q='川普'\n",
    "url = 'https://www.google.com/search?q='+q+'&rlz=1C2CAFB_enTW617TW617&source=lnms&tbm=isch&sa=X&ved=2ahUKEwjUr4Sw5svmAhWKF6YKHXPGDP4Q_AUoAnoECBEQBA&biw=1280&bih=592'\n",
    "limit = 5\n",
    "header = {'user-agent': 'Mozilla/5.0'}\n",
    "\n",
    "response = requests.get(url,headers = header)\n",
    "\n",
    "soup = BeautifulSoup(response.content, 'html.parser')\n",
    "\n",
    "imgs = soup.find_all('img')\n",
    "folder_path ='./photo/'\n",
    "if (os.path.exists(folder_path) == False): #判斷資料夾是否存在\n",
    "    os.makedirs(folder_path) #Create folder\n",
    "for i , item in enumerate (imgs):\n",
    "    if (item and i < limit ):\n",
    "        src = requests.get(item.get('src'))\n",
    "        img_name = folder_path + str(i + 1) + '.png'\n",
    "        with open(img_name,'wb') as file:\n",
    "            file.write(src.content)\n",
    "            file.flush()\n",
    "        file.close() #close file\n",
    "        print('第 %d 張' % (i + 1))\n",
    "        #time.sleep(1)\n",
    "\n",
    "print('End')"
   ]
  },
  {
   "cell_type": "code",
   "execution_count": null,
   "metadata": {},
   "outputs": [],
   "source": []
  }
 ],
 "metadata": {
  "kernelspec": {
   "display_name": "Python 3",
   "language": "python",
   "name": "python3"
  },
  "language_info": {
   "codemirror_mode": {
    "name": "ipython",
    "version": 3
   },
   "file_extension": ".py",
   "mimetype": "text/x-python",
   "name": "python",
   "nbconvert_exporter": "python",
   "pygments_lexer": "ipython3",
   "version": "3.6.7"
  }
 },
 "nbformat": 4,
 "nbformat_minor": 2
}
