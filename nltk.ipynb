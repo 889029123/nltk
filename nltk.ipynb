{
 "cells": [
  {
   "cell_type": "code",
   "execution_count": 1,
   "metadata": {},
   "outputs": [],
   "source": [
    "import nltk\n",
    "from nltk.corpus import stopwords\n",
    "from nltk.corpus import brown\n",
    "import numpy as np\n",
    "from graphviz import Digraph"
   ]
  },
  {
   "cell_type": "code",
   "execution_count": 2,
   "metadata": {},
   "outputs": [
    {
     "data": {
      "text/plain": [
       "[('sentiment', 'NN'),\n",
       " ('analysis', 'NN'),\n",
       " ('is', 'VBZ'),\n",
       " ('a', 'DT'),\n",
       " ('challenging', 'VBG'),\n",
       " ('subject', 'NN'),\n",
       " ('in', 'IN'),\n",
       " ('ml', 'NN'),\n",
       " ('.', '.'),\n",
       " ('people', 'NNS'),\n",
       " ('express', 'VBP'),\n",
       " ('their', 'PRP$'),\n",
       " ('emotions', 'NNS'),\n",
       " ('in', 'IN'),\n",
       " ('language', 'NN'),\n",
       " ('who', 'WP'),\n",
       " ('is', 'VBZ'),\n",
       " ('often', 'RB'),\n",
       " ('obscured', 'VBN'),\n",
       " ('by', 'IN'),\n",
       " ('sarcasm', 'NN'),\n",
       " (',', ','),\n",
       " ('ambiguity', 'NN'),\n",
       " (',', ','),\n",
       " ('and', 'CC'),\n",
       " ('play', 'VB'),\n",
       " ('on', 'IN'),\n",
       " ('words', 'NNS'),\n",
       " (',', ','),\n",
       " ('all', 'DT'),\n",
       " ('of', 'IN'),\n",
       " ('which', 'WDT'),\n",
       " ('could', 'MD'),\n",
       " ('be', 'VB'),\n",
       " ('very', 'RB'),\n",
       " ('misleading', 'VBG'),\n",
       " ('for', 'IN'),\n",
       " ('both', 'DT'),\n",
       " ('humans', 'NNS'),\n",
       " ('and', 'CC'),\n",
       " ('computers', 'NNS'),\n",
       " ('.', '.')]"
      ]
     },
     "execution_count": 2,
     "metadata": {},
     "output_type": "execute_result"
    }
   ],
   "source": [
    "text = \"Sentiment analysis is a challenging subject in ML.\\\n",
    " People express their emotions in language who is often obscured by sarcasm,\\\n",
    "  ambiguity, and play on words, all of which could be very misleading for \\\n",
    "  both humans and computers.\".lower()\n",
    "text_list = nltk.word_tokenize(text)\n",
    "\n",
    "english_punctuations = [ ':', ';', '?', '(', ')', '[', ']', '&', '!', '*', '@', '#', '$', '%']\n",
    "text_list = [word for word in text_list if word not in english_punctuations] #去除符號\n",
    "text_word=nltk.pos_tag(text_list)\n",
    "text_word"
   ]
  },
  {
   "cell_type": "code",
   "execution_count": 3,
   "metadata": {
    "scrolled": true
   },
   "outputs": [
    {
     "name": "stdout",
     "output_type": "stream",
     "text": [
      "// test\n",
      "digraph {\n",
      "\tA [label=\"sentiment analysis\"]\n",
      "\tB [label=is]\n",
      "\tL [label=subject]\n",
      "\tL [label=ml]\n",
      "\tA -> B\n",
      "\tB -> L\n",
      "}\n",
      "8\n"
     ]
    }
   ],
   "source": [
    "count=0\n",
    "temp=''\n",
    "dot = Digraph(comment='test')\n",
    "for i in range(0,len(text_word)):\n",
    "    if(text_word[i][1]==\"NN\"):\n",
    "        if(count==0):\n",
    "            if(text_word[i+1][1]==\"NN\"):\n",
    "                if(temp==''):\n",
    "                    temp=text_word[i][0]+' ' +text_word[i+1][0]\n",
    "                else:\n",
    "                    temp=temp+' '+text_word[i+1][0]\n",
    "            else :\n",
    "                if(temp==''):\n",
    "                    temp=text_word[i][0]\n",
    "                dot.node('A', temp)\n",
    "                temp=''\n",
    "                count=count+1\n",
    "        elif(count>0):\n",
    "            if(text_word[i+1][1]==\"NN\"):\n",
    "                if(temp==''):\n",
    "                    temp=text_word[i][0]+text_word[i+1][0]\n",
    "                else:\n",
    "                    temp=temp+text_word[i+1][0]\n",
    "            else :\n",
    "                if(temp==''):\n",
    "                    temp=text_word[i][0]\n",
    "                dot.node('L', temp)\n",
    "                temp=''\n",
    "                count=count+1\n",
    "    elif(text_word[i][1]==\"VBZ\"):\n",
    "        dot.node('B', text_word[i][0])\n",
    "        count=count+1\n",
    "    elif(text_word[i][1]=='.'):\n",
    "        dot.edges(['AB'])\n",
    "        dot.edges(['BL'])\n",
    "        dot.render('test-output/'+str(i), view=True)\n",
    "        print(dot.source)\n",
    "        print(i)\n",
    "        break\n",
    "        count=0\n",
    "        "
   ]
  },
  {
   "cell_type": "code",
   "execution_count": null,
   "metadata": {},
   "outputs": [],
   "source": []
  }
 ],
 "metadata": {
  "kernelspec": {
   "display_name": "Python 3",
   "language": "python",
   "name": "python3"
  },
  "language_info": {
   "codemirror_mode": {
    "name": "ipython",
    "version": 3
   },
   "file_extension": ".py",
   "mimetype": "text/x-python",
   "name": "python",
   "nbconvert_exporter": "python",
   "pygments_lexer": "ipython3",
   "version": "3.6.7"
  }
 },
 "nbformat": 4,
 "nbformat_minor": 2
}
