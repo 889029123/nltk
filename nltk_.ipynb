{
 "cells": [
  {
   "cell_type": "code",
   "execution_count": 1,
   "metadata": {},
   "outputs": [],
   "source": [
    "import nltk"
   ]
  },
  {
   "cell_type": "code",
   "execution_count": 6,
   "metadata": {},
   "outputs": [
    {
     "name": "stdout",
     "output_type": "stream",
     "text": [
      "(S\n",
      "  Sentiment/NN\n",
      "  analysis/NN\n",
      "  is/VBZ\n",
      "  a/DT\n",
      "  challenging/VBG\n",
      "  subject/NN\n",
      "  in/IN\n",
      "  ML/NNP\n",
      "  ./.\n",
      "  People/NNP\n",
      "  express/VBP\n",
      "  their/PRP$\n",
      "  emotions/NNS\n",
      "  in/IN\n",
      "  language/NN\n",
      "  who/WP\n",
      "  is/VBZ\n",
      "  often/RB\n",
      "  obscured/VBN\n",
      "  by/IN\n",
      "  sarcasm/NN\n",
      "  ,/,\n",
      "  ambiguity/NN\n",
      "  ,/,\n",
      "  and/CC\n",
      "  play/VB\n",
      "  on/IN\n",
      "  words/NNS\n",
      "  ,/,\n",
      "  all/DT\n",
      "  of/IN\n",
      "  which/WDT\n",
      "  could/MD\n",
      "  be/VB\n",
      "  very/RB\n",
      "  misleading/VBG\n",
      "  for/IN\n",
      "  both/DT\n",
      "  humans/NNS\n",
      "  and/CC\n",
      "  computers/NNS\n",
      "  ./.)\n"
     ]
    }
   ],
   "source": [
    "sentence = \"Sentiment analysis is a challenging subject in ML.\\\n",
    " People express their emotions in language who is often obscured by sarcasm,\\\n",
    "  ambiguity, and play on words, all of which could be very misleading for \\\n",
    "  both humans and computers.\"\n",
    "tokens = nltk.word_tokenize(sentence)\n",
    "tagged = nltk.pos_tag(tokens)\n",
    "entities = nltk.chunk.ne_chunk(tagged)\n",
    "grammar = \"\"\"\n",
    "NP: {<DT|JJ.*>+}\n",
    "S: {<PRP|PRP$|NN|NNS|NNP|NNPS>}\n",
    "V: {<VB|VBD|VBG|VBP|VBZ>}\n",
    "\"\"\"\n",
    "cp = nltk.RegexpParser(grammar)\n",
    "print(entities)\n",
    "result = cp.parse(entities)\n",
    "result.draw()\n",
    "\n",
    "\n"
   ]
  },
  {
   "cell_type": "code",
   "execution_count": 5,
   "metadata": {},
   "outputs": [
    {
     "name": "stdout",
     "output_type": "stream",
     "text": [
      "(S\n",
      "  (NP-SBJ\n",
      "    (NP (NNP Pierre) (NNP Vinken))\n",
      "    (, ,)\n",
      "    (ADJP (NP (CD 61) (NNS years)) (JJ old))\n",
      "    (, ,))\n",
      "  (VP\n",
      "    (MD will)\n",
      "    (VP\n",
      "      (VB join)\n",
      "      (NP (DT the) (NN board))\n",
      "      (PP-CLR (IN as) (NP (DT a) (JJ nonexecutive) (NN director)))\n",
      "      (NP-TMP (NNP Nov.) (CD 29))))\n",
      "  (. .))\n"
     ]
    }
   ],
   "source": [
    "#from nltk.corpus import treebank\n",
    "#t = treebank.parsed_sents('wsj_0001.mrg')[0]\n",
    "#print(t)\n",
    "#t.draw()"
   ]
  },
  {
   "cell_type": "code",
   "execution_count": null,
   "metadata": {},
   "outputs": [],
   "source": []
  },
  {
   "cell_type": "code",
   "execution_count": null,
   "metadata": {},
   "outputs": [],
   "source": []
  },
  {
   "cell_type": "code",
   "execution_count": null,
   "metadata": {},
   "outputs": [],
   "source": []
  }
 ],
 "metadata": {
  "kernelspec": {
   "display_name": "Python 3",
   "language": "python",
   "name": "python3"
  },
  "language_info": {
   "codemirror_mode": {
    "name": "ipython",
    "version": 3
   },
   "file_extension": ".py",
   "mimetype": "text/x-python",
   "name": "python",
   "nbconvert_exporter": "python",
   "pygments_lexer": "ipython3",
   "version": "3.6.7"
  }
 },
 "nbformat": 4,
 "nbformat_minor": 2
}
