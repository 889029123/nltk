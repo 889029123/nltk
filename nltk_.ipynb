{
 "cells": [
  {
   "cell_type": "code",
   "execution_count": 2,
   "metadata": {},
   "outputs": [],
   "source": [
    "import nltk\n",
    "from nltk import Tree\n",
    "from nltk.draw.util import CanvasFrame\n",
    "from nltk.draw import TreeWidget\n",
    "from PIL import Image\n",
    "import re"
   ]
  },
  {
   "cell_type": "code",
   "execution_count": null,
   "metadata": {},
   "outputs": [],
   "source": [
    "grammar = \"\"\"\n",
    "NP: {<DT|JJ|NN.*>+}          \n",
    "PP: {<IN><NP>}               \n",
    "VP: {<VB.*><NP|PP|CLAUSE>+$} \n",
    "CLAUSE: {<NP><VP>}           \n",
    "\"\"\"\n",
    "r1 = u'[a-zA-Z0-9’!\"#$%&\\'()*+,-./:;<=>?@，。?★、…【】《》？“”‘’！[\\\\]^_`{|}~]+'\n",
    "r2 = \"[\\s+\\.\\!\\/_,$%^*(+\\\"\\']+|[+——！，。？、~@#￥%……&*（）]+\"\n",
    "r3 =  \"[.!//_,$&%^*()<>+\\\"'?@#-|:~{}]+|[——！\\\\\\\\，。=？、：“”‘’《》【】￥……（）]+\" \n",
    "r4 =  \"\\\\【.*?】+|\\\\《.*?》+|\\\\#.*?#+|[.!/_$&%^*()<>+\"\"'?@|:~{}#]+|[——！\\\\\\，。=？、：“”‘’￥……（）《》【】]\"\n",
    "f = open(r'test.txt')\n",
    "sentence=''\n",
    "for line in f.readlines():\n",
    "    sentence+=line.strip('\\n')\n",
    "sentence=str(sentence)\n",
    "#print(sentence)\n",
    "\n",
    "sen_tokenizer = nltk.data.load('tokenizers/punkt/english.pickle') \n",
    "sentences = sen_tokenizer.tokenize(sentence)\n",
    "for i in range(0,len(sentences)):\n",
    "    cleanr = re.compile('<.*?>')\n",
    "    sentences[i] = re.sub(cleanr, ' ', sentences[i])\n",
    "    sentences[i] = re.sub(r4,' ',sentences[i])\n",
    "\n",
    "for i in range(0,5):#len(sentences)\n",
    "    tokens = nltk.word_tokenize(sentences[int(i)])\n",
    "    tagged = nltk.pos_tag(tokens)\n",
    "    entities = nltk.chunk.ne_chunk(tagged)\n",
    "    cp = nltk.RegexpParser(grammar)\n",
    "    print(entities)\n",
    "    result = cp.parse(entities)\n",
    "    im=result.draw()\n",
    "    cf = CanvasFrame()\n",
    "    t = entities\n",
    "    tc = TreeWidget(cf.canvas(),t)\n",
    "    cf.add_widget(tc,10,10) # (10,10) offsets\n",
    "    cf.print_to_file('tree'+str(i)+'.ps')\n",
    "    cf.destroy()\n",
    "f.close()"
   ]
  },
  {
   "cell_type": "code",
   "execution_count": 5,
   "metadata": {},
   "outputs": [
    {
     "name": "stdout",
     "output_type": "stream",
     "text": [
      "(S\n",
      "  (NP-SBJ\n",
      "    (NP (NNP Pierre) (NNP Vinken))\n",
      "    (, ,)\n",
      "    (ADJP (NP (CD 61) (NNS years)) (JJ old))\n",
      "    (, ,))\n",
      "  (VP\n",
      "    (MD will)\n",
      "    (VP\n",
      "      (VB join)\n",
      "      (NP (DT the) (NN board))\n",
      "      (PP-CLR (IN as) (NP (DT a) (JJ nonexecutive) (NN director)))\n",
      "      (NP-TMP (NNP Nov.) (CD 29))))\n",
      "  (. .))\n"
     ]
    }
   ],
   "source": [
    "#from nltk.corpus import treebank\n",
    "#t = treebank.parsed_sents('wsj_0001.mrg')[0]\n",
    "#print(t)\n",
    "#t.draw()"
   ]
  },
  {
   "cell_type": "code",
   "execution_count": null,
   "metadata": {},
   "outputs": [],
   "source": []
  },
  {
   "cell_type": "code",
   "execution_count": 99,
   "metadata": {},
   "outputs": [
    {
     "name": "stdout",
     "output_type": "stream",
     "text": [
      "['(CNN)In his final days in office, former Kentucky Gov. Matt Bevin issued hundreds of pardons and commutations to people he said he would not hesitate to welcome as neighbors, co-workers or members of his church.\\n', '\\n', 'The pardons largely drew shock and outrage not only because of the sheer number or apparent political motivations, but also because some involved violent criminals, including convicted murderers and rapists.\\n', 'Still, Bevin further enraged critics when he said during a radio interview Thursday with WHAS in Louisville that he pardoned a child rapist partly because the hymen of the 9-year-old victim was still intact.\\n', 'When WHAS host Terry Meiners asked Bevin about the pardon, the former governor focused on the lack of evidence from physical examinations of the victim and her sister.\\n', '\"Both their hymens were intact,\" Bevin said. \"This is perhaps more specific than people would want, but trust me, if you had been repeatedly sexually violated as a small child by an adult, there are going to be repercussions of that physically and medically.\"\\n', 'How former Kentucky Gov. Bevin&#39;s pardons are affecting those convicted and the victims&#39; families\\n', \"How former Kentucky Gov. Bevin's pardons are affecting those convicted and the victims' families\\n\", \"His claim was made despite expert studies showing most child victims do not show evidence of physical damage and that examination of the tissue is not a reliable test of sexual activity. In fact, a 2012 study by the peer-reviewed journal Forensic Science International found that 90% of child victims don't suffer physical damage from sexual abuse.\\n\", 'The case involved a man named Micah Schoettle, who was convicted in 2018 in Kenton County of rape, sodomy and sexual abuse, and sentenced to 23 years in prison.\\n', '\"Micah Schoettle was tried and convicted of a heinous crime based only on testimony that was not supported by any physical evidence,\" Bevin wrote in his executive order signed December 9. \"In fact, any and all evidence that is available, refutes the allegations that were made.\"\\n', 'He added that the case was investigated and prosecuted in a \"manner that was sloppy at best.\"\\n', \"Schoettle's trial had included testimony from the victim, according to CNN affiliate WCPO. Schoettle had served fewer than 18 months.\\n\", '\"You should not be sent to jail based simply the word, an uncorroborated word, of a single individual especially when it is possible to verify that medically and physically and there were no ability to do so,\" Bevin said in the interview.\\n', \"CNN has sought comment from Bevin and Schoettle's attorney and has not heard back. CNN has not been able to access the court files.\\n\", 'The mother of Schoettle\\'s victim called his pardon a \"slap in the face,\" CNN affiliate WCPO reported.\\n', '\"It feels like we\\'re going through it all over again ... we just got to the point where we felt safe leaving the house and not looking over our shoulders,\" the mother, who said she is considering moving her family, told the station.\\n', 'Prosecutor Rob Sanders of Kenton County told CNN that Schoettle was not in custody long enough to start sex offender treatment and argued his release puts other children at risk.\\n', 'Former Kentucky governor issued hundreds of pardons and commutations before leaving office this week\\n', 'Former Kentucky governor issued hundreds of pardons and commutations before leaving office this week\\n', 'Sanders, who prosecuted the case originally, said his office will investigate the pardons in his county including the Schoettle case. He added that he \"would prefer a statewide investigation led by either federal law enforcement or a special prosecutor appointed by the Kentucky Attorney General.\"\\n', 'Until that happens, Sanders said he will be conducting his own investigation of the pardons.\\n', \"Bevin's final actions in office didn't become public until the Louisville Courier Journal reported on the high volume of pardons. Bevin was narrowly defeated in November by Democrat Andy Beshear.\\n\", 'Bevin defended his final actions in a series of 20 tweets last week, saying he personally reviewed each case he pardoned and calling questions about \"the motives and involvement of anyone else in the administration is highly inappropriate and irresponsible.\"\\n', '\"Not one person receiving a pardon would I not welcome as a co-worker, neighbor, or to sit beside me or any member of my family in a church pew or at a public event,\" he tweeted. Bevin added, \"No community is either more or less safe now, than it was before the pardons and commutations given over the past four years.\"\\n', 'His last day in office was December 9.\\n', \"Despite the criticism of Bevin's pardons in cases involving violent crimes or those deemed as political in nature, the former governor was praised in some circles.\\n\", 'Kentucky Public Advocate Damon Preston, who was appointed by Bevin, said \"many deserving people were helped by Governor Bevin\\'s pardons.\"\\n', '\"Aside from the uproar over a handful of cases, scores of Kentuckians are now quietly benefiting from non-controversial pardons of long-ago convictions,\" Preston wrote in an op-ed published in the Lexington Herald Leader.\\n', 'In one executive order signed December 9, Bevin commuted the sentences for 336 inmates who are \"solely serving\" sentences for drug possession. A number of the pardons that Bevin issued are for drug-related convictions.\\n', \"CNN's Sarah Jorgensen, Veronica Stracqualursi and Rebekah Riess contributed to this report.\"]\n"
     ]
    }
   ],
   "source": []
  },
  {
   "cell_type": "code",
   "execution_count": 59,
   "metadata": {},
   "outputs": [
    {
     "data": {
      "text/plain": [
       "4"
      ]
     },
     "execution_count": 59,
     "metadata": {},
     "output_type": "execute_result"
    }
   ],
   "source": [
    "os.system('convert ' + file + ' ' + pdffile)"
   ]
  },
  {
   "cell_type": "code",
   "execution_count": null,
   "metadata": {},
   "outputs": [],
   "source": []
  },
  {
   "cell_type": "code",
   "execution_count": 147,
   "metadata": {},
   "outputs": [
    {
     "name": "stdout",
     "output_type": "stream",
     "text": [
      "123\n",
      "\n",
      "123\n"
     ]
    }
   ],
   "source": [
    "a=\"\"\"123\\n\"\"\"\n",
    "print(str(a))\n",
    "a=a.replace(\"\"\"\\n\"\"\", \"\")\n",
    "print(str(a))"
   ]
  },
  {
   "cell_type": "code",
   "execution_count": null,
   "metadata": {},
   "outputs": [],
   "source": []
  }
 ],
 "metadata": {
  "kernelspec": {
   "display_name": "Python 3",
   "language": "python",
   "name": "python3"
  },
  "language_info": {
   "codemirror_mode": {
    "name": "ipython",
    "version": 3
   },
   "file_extension": ".py",
   "mimetype": "text/x-python",
   "name": "python",
   "nbconvert_exporter": "python",
   "pygments_lexer": "ipython3",
   "version": "3.6.7"
  }
 },
 "nbformat": 4,
 "nbformat_minor": 2
}
